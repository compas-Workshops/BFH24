{
 "cells": [
  {
   "cell_type": "code",
   "execution_count": 1,
   "metadata": {},
   "outputs": [
    {
     "name": "stdout",
     "output_type": "stream",
     "text": [
      "PyThreeJS SceneObjects registered.\n",
      "PyThreeJS Model elements registered.\n"
     ]
    },
    {
     "data": {
      "application/vnd.jupyter.widget-view+json": {
       "model_id": "282750cb84fa4e09905176aa4d444eda",
       "version_major": 2,
       "version_minor": 0
      },
      "text/plain": [
       "VBox(children=(HBox(children=(Button(icon='search-plus', layout=Layout(height='32px', width='48px'), style=But…"
      ]
     },
     "metadata": {},
     "output_type": "display_data"
    }
   ],
   "source": [
    "from compas.colors import Color\n",
    "from compas.geometry import Box\n",
    "from compas_notebook.viewer import Viewer\n",
    "\n",
    "box = Box(1, 1, 1)\n",
    "\n",
    "viewer = Viewer()\n",
    "viewer.scene.clear()\n",
    "viewer.scene.add(box, color=Color.red())\n",
    "viewer.show()\n"
   ]
  }
 ],
 "metadata": {
  "kernelspec": {
   "display_name": "bfh24",
   "language": "python",
   "name": "python3"
  },
  "language_info": {
   "codemirror_mode": {
    "name": "ipython",
    "version": 3
   },
   "file_extension": ".py",
   "mimetype": "text/x-python",
   "name": "python",
   "nbconvert_exporter": "python",
   "pygments_lexer": "ipython3",
   "version": "3.10.0"
  }
 },
 "nbformat": 4,
 "nbformat_minor": 2
}
